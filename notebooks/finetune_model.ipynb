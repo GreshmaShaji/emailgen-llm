{
 "cells": [
  {
   "cell_type": "code",
   "execution_count": 18,
   "id": "82651743",
   "metadata": {},
   "outputs": [
    {
     "name": "stdout",
     "output_type": "stream",
     "text": [
      "file-LxEST2CNUvR6bBM4E3LKdk\n"
     ]
    }
   ],
   "source": [
    "from openai import OpenAI\n",
    "\n",
    "client = OpenAI()\n",
    "\n",
    "file = client.files.create(\n",
    "    file=open(\"../data/prompt_completion_pairs_MESSAGES.jsonl\", \"rb\"),\n",
    "    purpose=\"fine-tune\"\n",
    ")\n",
    "\n",
    "print(file.id)  # This gives your uploaded File ID\n"
   ]
  },
  {
   "cell_type": "code",
   "execution_count": 20,
   "id": "e2c07b42",
   "metadata": {},
   "outputs": [],
   "source": [
    "job = client.fine_tuning.jobs.create(\n",
    "    training_file=\"file-LxEST2CNUvR6bBM4E3LKdk\",\n",
    "    model=\"gpt-4.1-2025-04-14\" \n",
    ")"
   ]
  },
  {
   "cell_type": "code",
   "execution_count": 21,
   "id": "29a38311",
   "metadata": {},
   "outputs": [
    {
     "data": {
      "text/plain": [
       "SyncCursorPage[FineTuningJob](data=[FineTuningJob(id='ftjob-iH0WlEcPBg6Zoqn0glwePAC9', created_at=1746113833, error=Error(code=None, message=None, param=None), fine_tuned_model=None, finished_at=None, hyperparameters=Hyperparameters(batch_size='auto', learning_rate_multiplier='auto', n_epochs='auto'), model='gpt-4.1-2025-04-14', object='fine_tuning.job', organization_id='org-ToYVUAMmnHAjwRJP6H8CVNYe', result_files=[], seed=502602431, status='validating_files', trained_tokens=None, training_file='file-LxEST2CNUvR6bBM4E3LKdk', validation_file=None, estimated_finish=None, integrations=[], metadata=None, method=Method(dpo=None, supervised=MethodSupervised(hyperparameters=MethodSupervisedHyperparameters(batch_size='auto', learning_rate_multiplier='auto', n_epochs='auto')), type='supervised'), user_provided_suffix=None, usage_metrics=None, shared_with_openai=False), FineTuningJob(id='ftjob-iGCki5vat9YxpazGvm4fuVI2', created_at=1746113809, error=Error(code=None, message=None, param=None), fine_tuned_model=None, finished_at=None, hyperparameters=Hyperparameters(batch_size=1, learning_rate_multiplier=2.0, n_epochs=8), model='gpt-4.1-2025-04-14', object='fine_tuning.job', organization_id='org-ToYVUAMmnHAjwRJP6H8CVNYe', result_files=[], seed=436451633, status='running', trained_tokens=None, training_file='file-3hELBQcNRnkC3HpJiSEJwS', validation_file=None, estimated_finish=None, integrations=[], metadata=None, method=Method(dpo=None, supervised=MethodSupervised(hyperparameters=MethodSupervisedHyperparameters(batch_size=1, learning_rate_multiplier=2.0, n_epochs=8)), type='supervised'), user_provided_suffix=None, usage_metrics=None, shared_with_openai=False), FineTuningJob(id='ftjob-FKw3Tqwri8fUWW33CTLP8Vst', created_at=1745852962, error=Error(code=None, message=None, param=None), fine_tuned_model='ft:gpt-4.1-2025-04-14:personal::BRKWttzr', finished_at=1745853470, hyperparameters=Hyperparameters(batch_size=1, learning_rate_multiplier=2.0, n_epochs=8), model='gpt-4.1-2025-04-14', object='fine_tuning.job', organization_id='org-ToYVUAMmnHAjwRJP6H8CVNYe', result_files=['file-4EnbiTH4GwVzKLAa326xLi'], seed=1924980837, status='succeeded', trained_tokens=10336, training_file='file-3hELBQcNRnkC3HpJiSEJwS', validation_file=None, estimated_finish=None, integrations=[], metadata=None, method=Method(dpo=None, supervised=MethodSupervised(hyperparameters=MethodSupervisedHyperparameters(batch_size=1, learning_rate_multiplier=2.0, n_epochs=8)), type='supervised'), user_provided_suffix=None, usage_metrics=None, shared_with_openai=False), FineTuningJob(id='ftjob-rRWH5jRXAQhvefJNhCGkEcic', created_at=1745852649, error=Error(code='invalid_training_file', message='The job failed due to an invalid training file. Invalid file format. Example 1 is missing key \"messages\".', param='training_file'), fine_tuned_model=None, finished_at=None, hyperparameters=Hyperparameters(batch_size='auto', learning_rate_multiplier='auto', n_epochs='auto'), model='gpt-3.5-turbo-0125', object='fine_tuning.job', organization_id='org-ToYVUAMmnHAjwRJP6H8CVNYe', result_files=[], seed=1929821404, status='failed', trained_tokens=None, training_file='file-4ssWwd4QdLhnrsMvcZuQfT', validation_file=None, estimated_finish=None, integrations=[], metadata=None, method=Method(dpo=None, supervised=MethodSupervised(hyperparameters=MethodSupervisedHyperparameters(batch_size='auto', learning_rate_multiplier='auto', n_epochs='auto')), type='supervised'), user_provided_suffix=None, usage_metrics=None, shared_with_openai=False), FineTuningJob(id='ftjob-QLx3jyR5Awz50X6gY9n2ZWN8', created_at=1745852530, error=Error(code='invalid_training_file', message='The job failed due to an invalid training file. Invalid file format. Example 1 is missing key \"messages\".', param='training_file'), fine_tuned_model=None, finished_at=None, hyperparameters=Hyperparameters(batch_size='auto', learning_rate_multiplier='auto', n_epochs='auto'), model='gpt-4.1-2025-04-14', object='fine_tuning.job', organization_id='org-ToYVUAMmnHAjwRJP6H8CVNYe', result_files=[], seed=1510508228, status='failed', trained_tokens=None, training_file='file-4ssWwd4QdLhnrsMvcZuQfT', validation_file=None, estimated_finish=None, integrations=[], metadata=None, method=Method(dpo=None, supervised=MethodSupervised(hyperparameters=MethodSupervisedHyperparameters(batch_size='auto', learning_rate_multiplier='auto', n_epochs='auto')), type='supervised'), user_provided_suffix=None, usage_metrics=None, shared_with_openai=False)], has_more=False, object='list')"
      ]
     },
     "execution_count": 21,
     "metadata": {},
     "output_type": "execute_result"
    }
   ],
   "source": [
    "client.fine_tuning.jobs.list(limit=10)\n"
   ]
  },
  {
   "cell_type": "code",
   "execution_count": 22,
   "id": "574981e3",
   "metadata": {},
   "outputs": [
    {
     "name": "stdout",
     "output_type": "stream",
     "text": [
      "Dear [Hiring Manager],\n",
      "\n",
      "I've just applied for the Data Scientist role at Tesla. With strong experience in ML and a passion for innovation, I’d love the opportunity to contribute to your team.\n",
      "\n",
      "Thank you for your consideration!\n",
      "\n",
      "Best,\n",
      "[Your Name]\n"
     ]
    }
   ],
   "source": [
    "completion = client.chat.completions.create(\n",
    "    model=\"ft:gpt-4.1-2025-04-14:personal::BSQP6Qtn\",\n",
    "    messages=[\n",
    "        {\"role\": \"system\", \"content\": \"You are a helpful email writing assistant.\"},\n",
    "        {\"role\": \"user\", \"content\": \"I am applying for a Data Scientist role at Tesla. Write an email for me.\"}\n",
    "    ]\n",
    ")\n",
    "\n",
    "print(completion.choices[0].message.content)\n"
   ]
  }
 ],
 "metadata": {
  "kernelspec": {
   "display_name": "emailgen",
   "language": "python",
   "name": "python3"
  },
  "language_info": {
   "codemirror_mode": {
    "name": "ipython",
    "version": 3
   },
   "file_extension": ".py",
   "mimetype": "text/x-python",
   "name": "python",
   "nbconvert_exporter": "python",
   "pygments_lexer": "ipython3",
   "version": "3.10.17"
  }
 },
 "nbformat": 4,
 "nbformat_minor": 5
}
