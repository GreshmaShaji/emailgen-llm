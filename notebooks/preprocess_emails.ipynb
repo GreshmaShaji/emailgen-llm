{
 "cells": [
  {
   "cell_type": "code",
   "execution_count": 17,
   "id": "b592973b",
   "metadata": {},
   "outputs": [
    {
     "name": "stdout",
     "output_type": "stream",
     "text": [
      "✅ Dataset ready for fine-tuning!\n"
     ]
    }
   ],
   "source": [
    "import pandas as pd\n",
    "import json\n",
    "import os\n",
    "os.makedirs(\"data\", exist_ok=True)\n",
    "\n",
    "df = pd.read_csv(\"../data/raw_samples.csv\")\n",
    "\n",
    "jsonl_lines = []\n",
    "\n",
    "for _, row in df.iterrows():\n",
    "    prompt = f\"Category: {row['category']}\\nContext: {row['context']}\\n\\nWrite the email:\\n\"\n",
    "    completion = row['email_body'].strip() + \"###\"  # '###' = end of completion\n",
    "    jsonl_lines.append({\n",
    "        \"prompt\": prompt,\n",
    "        \"completion\": completion\n",
    "    })\n",
    "\n",
    "with open(\"../data/prompt_completion_pairs.jsonl\", \"w\") as f:\n",
    "    for line in jsonl_lines:\n",
    "        f.write(json.dumps(line) + \"\\n\")\n",
    "\n",
    "print(\"✅ Dataset ready for fine-tuning!\")\n"
   ]
  }
 ],
 "metadata": {
  "kernelspec": {
   "display_name": "emailgen",
   "language": "python",
   "name": "python3"
  },
  "language_info": {
   "codemirror_mode": {
    "name": "ipython",
    "version": 3
   },
   "file_extension": ".py",
   "mimetype": "text/x-python",
   "name": "python",
   "nbconvert_exporter": "python",
   "pygments_lexer": "ipython3",
   "version": "3.13.3"
  }
 },
 "nbformat": 4,
 "nbformat_minor": 5
}
