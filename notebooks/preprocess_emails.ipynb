{
 "cells": [
  {
   "cell_type": "code",
   "execution_count": 2,
   "id": "b592973b",
   "metadata": {},
   "outputs": [
    {
     "name": "stdout",
     "output_type": "stream",
     "text": [
      "✅ Dataset ready for fine-tuning!\n"
     ]
    }
   ],
   "source": [
    "import pandas as pd\n",
    "import json\n",
    "import os\n",
    "os.makedirs(\"data\", exist_ok=True)\n",
    "\n",
    "df = pd.read_csv(\"../data/raw_samples.csv\")\n",
    "\n",
    "messages_list = []\n",
    "\n",
    "for _, row in df.iterrows():\n",
    "    messages = [\n",
    "        {\"role\": \"system\", \"content\": \"You are a helpful assistant that writes professional emails based on user's context.\"},\n",
    "        {\"role\": \"user\", \"content\": f\"Category: {row['category']}\\nContext: {row['context']}\\n\\nWrite the email.\"},\n",
    "        {\"role\": \"assistant\", \"content\": row['email_body'].strip()}\n",
    "    ]\n",
    "    messages_list.append({\"messages\": messages})\n",
    "\n",
    "# Save to a new JSONL file\n",
    "with open(\"../data/prompt_completion_pairs_MESSAGES.jsonl\", \"w\") as f:\n",
    "    for example in messages_list:\n",
    "        f.write(json.dumps(example) + \"\\n\")\n",
    "\n",
    "print(\"✅ Dataset ready for fine-tuning!\")\n"
   ]
  }
 ],
 "metadata": {
  "kernelspec": {
   "display_name": "emailgen",
   "language": "python",
   "name": "python3"
  },
  "language_info": {
   "codemirror_mode": {
    "name": "ipython",
    "version": 3
   },
   "file_extension": ".py",
   "mimetype": "text/x-python",
   "name": "python",
   "nbconvert_exporter": "python",
   "pygments_lexer": "ipython3",
   "version": "3.10.17"
  }
 },
 "nbformat": 4,
 "nbformat_minor": 5
}
